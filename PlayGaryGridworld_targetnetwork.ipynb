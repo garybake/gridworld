{
 "cells": [
  {
   "cell_type": "markdown",
   "id": "ca614fb7-7715-413f-a078-3fa60b14d9ef",
   "metadata": {},
   "source": [
    "## Run DQL with replay buffer with my gridworld## Run DQL with my gridworld"
   ]
  },
  {
   "cell_type": "code",
   "execution_count": 1,
   "id": "26138787-a82b-4969-94aa-327571374bba",
   "metadata": {},
   "outputs": [],
   "source": [
    "import random\n",
    "from collections import deque\n",
    "import copy\n",
    "\n",
    "import numpy as np\n",
    "import torch\n",
    "from matplotlib import pylab as plt\n",
    "\n",
    "from ggridworld.EnvWrapper import GridWorldEnv\n",
    "from IPython.display import clear_output"
   ]
  },
  {
   "cell_type": "code",
   "execution_count": 2,
   "id": "bd122d16-b19a-4eb6-93de-fca7e5df35a8",
   "metadata": {},
   "outputs": [
    {
     "data": {
      "text/plain": [
       "device(type='cuda')"
      ]
     },
     "execution_count": 2,
     "metadata": {},
     "output_type": "execute_result"
    }
   ],
   "source": [
    "device = torch.device(\"cuda\" if torch.cuda.is_available() else \"cpu\")\n",
    "device"
   ]
  },
  {
   "cell_type": "code",
   "execution_count": 3,
   "id": "fc4d33d3-8326-4de5-b3a2-421d3a0a759f",
   "metadata": {},
   "outputs": [],
   "source": [
    "size = 4"
   ]
  },
  {
   "cell_type": "code",
   "execution_count": 4,
   "id": "fd6af09a-5179-47b7-a780-da1738f47f46",
   "metadata": {},
   "outputs": [
    {
     "name": "stdout",
     "output_type": "stream",
     "text": [
      "...#\n",
      "....\n",
      "....\n",
      ".GO.\n",
      "\n"
     ]
    }
   ],
   "source": [
    "env = GridWorldEnv(size=size, holes=1, walls=1, use_random=True, rand_seed=12)\n",
    "obs = env.reset()\n",
    "env.render()"
   ]
  },
  {
   "cell_type": "code",
   "execution_count": 5,
   "id": "a671a728-78e2-445a-9d12-e8bf7b58706c",
   "metadata": {},
   "outputs": [
    {
     "data": {
      "text/plain": [
       "array([[[0., 0., 0., 0.],\n",
       "        [0., 0., 0., 0.],\n",
       "        [0., 0., 0., 0.],\n",
       "        [0., 1., 0., 0.]],\n",
       "\n",
       "       [[0., 0., 0., 0.],\n",
       "        [0., 0., 0., 0.],\n",
       "        [0., 0., 0., 0.],\n",
       "        [0., 1., 0., 0.]],\n",
       "\n",
       "       [[0., 0., 0., 1.],\n",
       "        [0., 0., 0., 0.],\n",
       "        [0., 0., 0., 0.],\n",
       "        [0., 0., 0., 0.]],\n",
       "\n",
       "       [[0., 0., 0., 0.],\n",
       "        [0., 0., 0., 0.],\n",
       "        [0., 0., 0., 0.],\n",
       "        [0., 0., 1., 0.]]])"
      ]
     },
     "execution_count": 5,
     "metadata": {},
     "output_type": "execute_result"
    }
   ],
   "source": [
    "obs"
   ]
  },
  {
   "cell_type": "code",
   "execution_count": 6,
   "id": "f98351c2-4e2f-46d9-9fa9-32df280c8983",
   "metadata": {},
   "outputs": [
    {
     "data": {
      "text/plain": [
       "(4, 4, 4)"
      ]
     },
     "execution_count": 6,
     "metadata": {},
     "output_type": "execute_result"
    }
   ],
   "source": [
    "obs.shape"
   ]
  },
  {
   "cell_type": "code",
   "execution_count": 7,
   "id": "fc847b4a-3c45-4db1-8c4b-50363565d48a",
   "metadata": {},
   "outputs": [],
   "source": [
    "def get_env():\n",
    "    env = GridWorldEnv(size=size, holes=1, walls=1, use_random=True)\n",
    "    obs = env.reset()\n",
    "    return obs, env"
   ]
  },
  {
   "cell_type": "markdown",
   "id": "4d93034e-9908-4300-8566-bb09f1816db7",
   "metadata": {},
   "source": [
    "### Build the model"
   ]
  },
  {
   "cell_type": "code",
   "execution_count": 8,
   "id": "3fe7ea16-13bd-499f-b320-5f1acc2af46d",
   "metadata": {},
   "outputs": [],
   "source": [
    "def get_model(size):\n",
    "#     l_in = 64  # 4x4x4\n",
    "    l_in = 4*size*size  # 216\n",
    "    l2 = 150\n",
    "    l3 = 100\n",
    "    l_out = 4\n",
    "    \n",
    "    \n",
    "    model = torch.nn.Sequential(\n",
    "        torch.nn.Linear(l_in, l2),\n",
    "        torch.nn.ReLU(),\n",
    "        torch.nn.Linear(l2, l3),\n",
    "        torch.nn.ReLU(),\n",
    "        torch.nn.Linear(l3, l_out)\n",
    "    )\n",
    "    model.to(device)\n",
    "    return model"
   ]
  },
  {
   "cell_type": "code",
   "execution_count": 9,
   "id": "db328b83-93e1-4535-9018-376c97d23e17",
   "metadata": {},
   "outputs": [],
   "source": [
    "learning_rate = 1e-3\n",
    "model = get_model(size)\n",
    "model_target = copy.deepcopy(model)\n",
    "model_target.load_state_dict(model.state_dict())\n",
    "\n",
    "loss_fn = torch.nn.MSELoss()\n",
    "optimizer = torch.optim.Adam(model.parameters(), lr=learning_rate)"
   ]
  },
  {
   "cell_type": "code",
   "execution_count": 10,
   "id": "1da8dff1-fbe1-44d1-ad49-4d6e0700abc2",
   "metadata": {},
   "outputs": [],
   "source": [
    "def action_map(action):\n",
    "    a_map = [0] * 4\n",
    "    a_map[action] = 1\n",
    "    return a_map"
   ]
  },
  {
   "cell_type": "code",
   "execution_count": 11,
   "id": "9a36c168-0e6f-40e1-8de2-4a18a34ba2ea",
   "metadata": {},
   "outputs": [
    {
     "name": "stdout",
     "output_type": "stream",
     "text": [
      "4900 0.16983474791049957\n"
     ]
    }
   ],
   "source": [
    "gamma = 0.9  # discount factor\n",
    "epsilon = 0.3  # explore-exploit discounting\n",
    "epochs = 5000\n",
    "# epochs = 100\n",
    "mem_size = 1000\n",
    "batch_size = 200  # number of steps to learn each time\n",
    "max_moves = 50\n",
    "sync_freq = 500\n",
    "move_num_global = 0\n",
    "\n",
    "losses = []\n",
    "replay = deque(maxlen=mem_size)\n",
    "\n",
    "for epoch in range(epochs):\n",
    "    obs, env = get_env()\n",
    "    state_ = obs.reshape(1, 4*size*size) + np.random.rand(1, 4*size*size)/10.0\n",
    "    prev_state = torch.from_numpy(state_).float().to(device)\n",
    "    done = False\n",
    "    move_num = 0\n",
    "    while(not done):\n",
    "        move_num_global += 1\n",
    "        move_num += 1\n",
    "        # Forward pass through model\n",
    "        qval = model(prev_state)\n",
    "        qval_ = qval.cpu().data.numpy()\n",
    "\n",
    "        # Epsilon greedy\n",
    "        if (random.random() < epsilon):\n",
    "            action_ = np.random.randint(0,4)\n",
    "        else:\n",
    "            action_ = np.argmax(qval_)\n",
    "\n",
    "        # Do the action and get new state\n",
    "        action = action_map(action_)\n",
    "        obs, reward, done, info = env.step(action)\n",
    "        new_state_ = obs.reshape(1,4*size*size) + np.random.rand(1,4*size*size)/100.0\n",
    "        new_state = torch.from_numpy(new_state_).float().to(device)\n",
    "\n",
    "        experience = (prev_state, action_, reward, new_state, done)\n",
    "        replay.append(experience)\n",
    "\n",
    "        if len(replay) > batch_size:\n",
    "            mini_batch = random.sample(replay, batch_size)\n",
    "            state1_batch = torch.cat([s1 for (s1, a, r, s2, d) in mini_batch]).to(device)\n",
    "            action_batch = torch.Tensor([a for (s1, a, r, s2, d) in mini_batch]).to(device)\n",
    "            reward_batch = torch.Tensor([r for (s1, a, r, s2, d) in mini_batch]).to(device)\n",
    "            state2_batch = torch.cat([s2 for (s1, a, r, s2, d) in mini_batch]).to(device)\n",
    "            done_batch = torch.Tensor([d for (s1, a, r, s2, d) in mini_batch]).to(device)\n",
    "            \n",
    "            Q1 = model(state1_batch)\n",
    "            with torch.no_grad():  # no backprop here so don't store graph\n",
    "                Q2 = model_target(state2_batch)\n",
    "            \n",
    "            Y = reward_batch + gamma * ((1 - done_batch) * torch.max(Q2, dim=1)[0])\n",
    "            X = Q1.gather(dim=1, index=action_batch.long().unsqueeze(dim=1)).squeeze()\n",
    "            loss = loss_fn(X, Y.detach())\n",
    "\n",
    "            # Output loss every 100 epochs\n",
    "            if epoch % 100 == 0:\n",
    "                print(epoch, loss.item())\n",
    "                clear_output(wait=True)\n",
    "                \n",
    "            if move_num_global % sync_freq == 0:\n",
    "                model_target.load_state_dict(model.state_dict())\n",
    "\n",
    "            # Update the model with the loss\n",
    "            optimizer.zero_grad()\n",
    "            loss.backward()\n",
    "            losses.append(loss.item())\n",
    "            optimizer.step()\n",
    "        \n",
    "        prev_state = new_state\n",
    "\n",
    "#     if epsilon > 0.1:\n",
    "#         epsilon -= (1/epochs)\n",
    "    \n",
    "    if move_num > max_moves:\n",
    "        done = True\n",
    "        \n",
    "losses = np.array(losses)        "
   ]
  },
  {
   "cell_type": "code",
   "execution_count": 12,
   "id": "b84de067-72a1-48ff-91fa-3946a7e01f83",
   "metadata": {},
   "outputs": [],
   "source": [
    "def running_mean(x,N=50):\n",
    "    c = x.shape[0] - N\n",
    "    y = np.zeros(c)\n",
    "    conv = np.ones(N)\n",
    "    for i in range(c):\n",
    "        y[i] = (x[i:i+N] @ conv)/N\n",
    "    return y"
   ]
  },
  {
   "cell_type": "code",
   "execution_count": 13,
   "id": "64385026-4d32-4de6-a54c-a5e3472b4fb1",
   "metadata": {},
   "outputs": [
    {
     "data": {
      "text/plain": [
       "Text(0, 0.5, 'Loss')"
      ]
     },
     "execution_count": 13,
     "metadata": {},
     "output_type": "execute_result"
    },
    {
     "data": {
      "image/png": "[encoded data removed]",
      "text/plain": [
       "<Figure size 720x504 with 1 Axes>"
      ]
     },
     "metadata": {
      "needs_background": "light"
     },
     "output_type": "display_data"
    }
   ],
   "source": [
    "plt.figure(figsize=(10,7))\n",
    "plt.plot(losses)\n",
    "plt.xlabel(\"Epochs\",fontsize=22)\n",
    "plt.ylabel(\"Loss\",fontsize=22)"
   ]
  },
  {
   "cell_type": "code",
   "execution_count": 14,
   "id": "d200e949-00ec-429f-a87a-16b7d712be0f",
   "metadata": {},
   "outputs": [],
   "source": [
    "def test_model(model, display=True):\n",
    "    move_count = 0\n",
    "    game_won = False\n",
    "    obs, env = get_env()\n",
    "    state_ = obs.reshape(1, 4*size*size) + np.random.rand(1, 4*size*size)/10.0\n",
    "    state = torch.from_numpy(state_).float()\n",
    "\n",
    "    if display:\n",
    "        print(\"Initial State:\")\n",
    "        env.render()\n",
    "    done = False\n",
    "    while(not done):\n",
    "        qval = model(state.to(device))\n",
    "        qval_ = qval.cpu().data.numpy()\n",
    "        action_ = np.argmax(qval_)\n",
    "        action = action_map(action_)\n",
    "        if display:\n",
    "            print('Move #: %s; Taking action: %s' % (move_count, action))\n",
    "            \n",
    "        obs, reward, done, info = env.step(action)\n",
    "        state_ = obs.reshape(1,4*size*size) + np.random.rand(1,4*size*size)/10.0\n",
    "        state = torch.from_numpy(state_).float()\n",
    "        if display:\n",
    "            print(env.render())\n",
    "\n",
    "        if reward != -1:\n",
    "            if reward > 0:\n",
    "                if display:\n",
    "                    print(\"Game won! Reward: %s\" % (reward,))\n",
    "#                     game_won =True\n",
    "                return True\n",
    "            else:\n",
    "                if display:\n",
    "                    print(\"Game LOST. Reward: %s\" % (reward,))\n",
    "                return False\n",
    "        move_count += 1\n",
    "        if (move_count > 50):\n",
    "            if display:\n",
    "                print(\"Game lost; too many moves.\")\n",
    "            return False\n",
    "            break\n",
    "    \n",
    "    return game_won"
   ]
  },
  {
   "cell_type": "code",
   "execution_count": 15,
   "id": "ce38362f-3810-44bc-b158-d1349beb4c23",
   "metadata": {},
   "outputs": [
    {
     "name": "stdout",
     "output_type": "stream",
     "text": [
      "Games played: 1000, # of wins: 882\n",
      "Win percentage: 88.2%\n"
     ]
    }
   ],
   "source": [
    "max_games = 1000\n",
    "wins = 0\n",
    "for i in range(max_games):\n",
    "    win = test_model(model, display=False)\n",
    "    if win:\n",
    "        wins += 1\n",
    "win_perc = float(wins) / float(max_games)\n",
    "print(\"Games played: {0}, # of wins: {1}\".format(max_games,wins))\n",
    "print(\"Win percentage: {}%\".format(100.0*win_perc))"
   ]
  },
  {
   "cell_type": "code",
   "execution_count": 16,
   "id": "03175175-666b-40f3-8f28-0527fc42b6cc",
   "metadata": {},
   "outputs": [
    {
     "name": "stdout",
     "output_type": "stream",
     "text": [
      "Initial State:\n",
      "....\n",
      "P...\n",
      "..G.\n",
      ".#O.\n",
      "\n",
      "Move #: 0; Taking action: [0, 0, 0, 1]\n",
      "....\n",
      ".P..\n",
      "..G.\n",
      ".#O.\n",
      "\n",
      "None\n",
      "Move #: 1; Taking action: [0, 0, 0, 1]\n",
      "....\n",
      "..P.\n",
      "..G.\n",
      ".#O.\n",
      "\n",
      "None\n",
      "Move #: 2; Taking action: [0, 1, 0, 0]\n",
      "....\n",
      "....\n",
      "..G.\n",
      ".#O.\n",
      "\n",
      "None\n",
      "Game won! Reward: 10\n"
     ]
    },
    {
     "data": {
      "text/plain": [
       "True"
      ]
     },
     "execution_count": 16,
     "metadata": {},
     "output_type": "execute_result"
    }
   ],
   "source": [
    "test_model(model)"
   ]
  },
  {
   "cell_type": "code",
   "execution_count": null,
   "id": "71bbea44-a277-4911-8d16-7b2c7e9a1a97",
   "metadata": {},
   "outputs": [],
   "source": []
  },
  {
   "cell_type": "code",
   "execution_count": null,
   "id": "6a6ae160-0178-46b2-8fee-03ff91f3e26b",
   "metadata": {},
   "outputs": [],
   "source": []
  }
 ],
 "metadata": {
  "kernelspec": {
   "display_name": "Python 3 (ipykernel)",
   "language": "python",
   "name": "python3"
  },
  "language_info": {
   "codemirror_mode": {
    "name": "ipython",
    "version": 3
   },
   "file_extension": ".py",
   "mimetype": "text/x-python",
   "name": "python",
   "nbconvert_exporter": "python",
   "pygments_lexer": "ipython3",
   "version": "3.9.1"
  }
 },
 "nbformat": 4,
 "nbformat_minor": 5
}
